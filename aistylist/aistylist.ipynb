{
 "cells": [
  {
   "cell_type": "markdown",
   "id": "ff11582e-079b-48d4-9da9-71a7c0702c5f",
   "metadata": {},
   "source": [
    "## ⚠️ ⚠️ ⚠️ Before running this notebook, ensure you've run the Bedrock boto3 setup notebook notebook. ⚠️ ⚠️ ⚠️"
   ]
  },
  {
   "cell_type": "code",
   "execution_count": 1,
   "id": "0fae5acf-042c-4afc-9c98-133687bb0cee",
   "metadata": {
    "scrolled": true
   },
   "outputs": [
    {
     "name": "stdout",
     "output_type": "stream",
     "text": [
      "Collecting boto3>=1.28.57\n",
      "  Using cached boto3-1.28.76-py3-none-any.whl.metadata (6.7 kB)\n",
      "Collecting awscli>=1.29.57\n",
      "  Using cached awscli-1.29.76-py3-none-any.whl.metadata (11 kB)\n",
      "Collecting botocore>=1.31.57\n",
      "  Using cached botocore-1.31.76-py3-none-any.whl.metadata (6.1 kB)\n",
      "Collecting jmespath<2.0.0,>=0.7.1 (from boto3>=1.28.57)\n",
      "  Using cached jmespath-1.0.1-py3-none-any.whl (20 kB)\n",
      "Collecting s3transfer<0.8.0,>=0.7.0 (from boto3>=1.28.57)\n",
      "  Using cached s3transfer-0.7.0-py3-none-any.whl.metadata (1.8 kB)\n",
      "Collecting docutils<0.17,>=0.10 (from awscli>=1.29.57)\n",
      "  Using cached docutils-0.16-py2.py3-none-any.whl (548 kB)\n",
      "Collecting PyYAML<6.1,>=3.10 (from awscli>=1.29.57)\n",
      "  Using cached PyYAML-6.0.1-cp311-cp311-macosx_11_0_arm64.whl.metadata (2.1 kB)\n",
      "Collecting colorama<0.4.5,>=0.2.5 (from awscli>=1.29.57)\n",
      "  Using cached colorama-0.4.4-py2.py3-none-any.whl (16 kB)\n",
      "Collecting rsa<4.8,>=3.1.2 (from awscli>=1.29.57)\n",
      "  Using cached rsa-4.7.2-py3-none-any.whl (34 kB)\n",
      "Collecting python-dateutil<3.0.0,>=2.1 (from botocore>=1.31.57)\n",
      "  Using cached python_dateutil-2.8.2-py2.py3-none-any.whl (247 kB)\n",
      "Collecting urllib3<2.1,>=1.25.4 (from botocore>=1.31.57)\n",
      "  Using cached urllib3-2.0.7-py3-none-any.whl.metadata (6.6 kB)\n",
      "Collecting six>=1.5 (from python-dateutil<3.0.0,>=2.1->botocore>=1.31.57)\n",
      "  Using cached six-1.16.0-py2.py3-none-any.whl (11 kB)\n",
      "Collecting pyasn1>=0.1.3 (from rsa<4.8,>=3.1.2->awscli>=1.29.57)\n",
      "  Using cached pyasn1-0.5.0-py2.py3-none-any.whl (83 kB)\n",
      "Using cached boto3-1.28.76-py3-none-any.whl (135 kB)\n",
      "Using cached awscli-1.29.76-py3-none-any.whl (4.3 MB)\n",
      "Using cached botocore-1.31.76-py3-none-any.whl (11.3 MB)\n",
      "Using cached PyYAML-6.0.1-cp311-cp311-macosx_11_0_arm64.whl (167 kB)\n",
      "Using cached s3transfer-0.7.0-py3-none-any.whl (79 kB)\n",
      "Using cached urllib3-2.0.7-py3-none-any.whl (124 kB)\n",
      "Installing collected packages: urllib3, six, PyYAML, pyasn1, jmespath, docutils, colorama, rsa, python-dateutil, botocore, s3transfer, boto3, awscli\n",
      "  Attempting uninstall: urllib3\n",
      "    Found existing installation: urllib3 2.0.7\n",
      "    Uninstalling urllib3-2.0.7:\n",
      "      Successfully uninstalled urllib3-2.0.7\n",
      "  Attempting uninstall: six\n",
      "    Found existing installation: six 1.16.0\n",
      "    Uninstalling six-1.16.0:\n",
      "      Successfully uninstalled six-1.16.0\n",
      "  Attempting uninstall: PyYAML\n",
      "    Found existing installation: PyYAML 6.0.1\n",
      "    Uninstalling PyYAML-6.0.1:\n",
      "      Successfully uninstalled PyYAML-6.0.1\n",
      "  Attempting uninstall: pyasn1\n",
      "    Found existing installation: pyasn1 0.5.0\n",
      "    Uninstalling pyasn1-0.5.0:\n",
      "      Successfully uninstalled pyasn1-0.5.0\n",
      "  Attempting uninstall: jmespath\n",
      "    Found existing installation: jmespath 1.0.1\n",
      "    Uninstalling jmespath-1.0.1:\n",
      "      Successfully uninstalled jmespath-1.0.1\n",
      "  Attempting uninstall: docutils\n",
      "    Found existing installation: docutils 0.16\n",
      "    Uninstalling docutils-0.16:\n",
      "      Successfully uninstalled docutils-0.16\n",
      "  Attempting uninstall: colorama\n",
      "    Found existing installation: colorama 0.4.4\n",
      "    Uninstalling colorama-0.4.4:\n",
      "      Successfully uninstalled colorama-0.4.4\n",
      "  Attempting uninstall: rsa\n",
      "    Found existing installation: rsa 4.7.2\n",
      "    Uninstalling rsa-4.7.2:\n",
      "      Successfully uninstalled rsa-4.7.2\n",
      "  Attempting uninstall: python-dateutil\n",
      "    Found existing installation: python-dateutil 2.8.2\n",
      "    Uninstalling python-dateutil-2.8.2:\n",
      "      Successfully uninstalled python-dateutil-2.8.2\n",
      "  Attempting uninstall: botocore\n",
      "    Found existing installation: botocore 1.31.76\n",
      "    Uninstalling botocore-1.31.76:\n",
      "      Successfully uninstalled botocore-1.31.76\n",
      "  Attempting uninstall: s3transfer\n",
      "    Found existing installation: s3transfer 0.7.0\n",
      "    Uninstalling s3transfer-0.7.0:\n",
      "      Successfully uninstalled s3transfer-0.7.0\n",
      "  Attempting uninstall: boto3\n",
      "    Found existing installation: boto3 1.28.76\n",
      "    Uninstalling boto3-1.28.76:\n",
      "      Successfully uninstalled boto3-1.28.76\n",
      "  Attempting uninstall: awscli\n",
      "    Found existing installation: awscli 1.29.76\n",
      "    Uninstalling awscli-1.29.76:\n",
      "      Successfully uninstalled awscli-1.29.76\n",
      "Successfully installed PyYAML-6.0.1 awscli-1.29.76 boto3-1.28.76 botocore-1.31.76 colorama-0.4.4 docutils-0.16 jmespath-1.0.1 pyasn1-0.5.0 python-dateutil-2.8.2 rsa-4.7.2 s3transfer-0.7.0 six-1.16.0 urllib3-2.0.7\n",
      "\n",
      "\u001b[1m[\u001b[0m\u001b[34;49mnotice\u001b[0m\u001b[1;39;49m]\u001b[0m\u001b[39;49m A new release of pip is available: \u001b[0m\u001b[31;49m23.3\u001b[0m\u001b[39;49m -> \u001b[0m\u001b[32;49m23.3.1\u001b[0m\n",
      "\u001b[1m[\u001b[0m\u001b[34;49mnotice\u001b[0m\u001b[1;39;49m]\u001b[0m\u001b[39;49m To update, run: \u001b[0m\u001b[32;49mpython3.11 -m pip install --upgrade pip\u001b[0m\n",
      "Note: you may need to restart the kernel to use updated packages.\n",
      "\n",
      "\u001b[1m[\u001b[0m\u001b[34;49mnotice\u001b[0m\u001b[1;39;49m]\u001b[0m\u001b[39;49m A new release of pip is available: \u001b[0m\u001b[31;49m23.3\u001b[0m\u001b[39;49m -> \u001b[0m\u001b[32;49m23.3.1\u001b[0m\n",
      "\u001b[1m[\u001b[0m\u001b[34;49mnotice\u001b[0m\u001b[1;39;49m]\u001b[0m\u001b[39;49m To update, run: \u001b[0m\u001b[32;49mpython3.11 -m pip install --upgrade pip\u001b[0m\n",
      "Note: you may need to restart the kernel to use updated packages.\n"
     ]
    }
   ],
   "source": [
    "%pip install --no-build-isolation --force-reinstall \\\n",
    "    \"boto3>=1.28.57\" \\\n",
    "    \"awscli>=1.29.57\" \\\n",
    "    \"botocore>=1.31.57\"\n",
    "%pip install --quiet \"pillow>=9.5,<10\""
   ]
  },
  {
   "cell_type": "markdown",
   "id": "f06fbee0-9db9-4a9f-8792-b71a670d82f8",
   "metadata": {},
   "source": [
    "## Create required clients"
   ]
  },
  {
   "cell_type": "code",
   "execution_count": 2,
   "id": "2628ef76-b545-4bf9-ade6-5b9f5c2c62b7",
   "metadata": {},
   "outputs": [
    {
     "name": "stdout",
     "output_type": "stream",
     "text": [
      "Create new client\n",
      "  Using region: us-east-1\n",
      "boto3 Bedrock client successfully created!\n",
      "bedrock-runtime(https://bedrock-runtime.us-east-1.amazonaws.com)\n"
     ]
    }
   ],
   "source": [
    "import json\n",
    "import os\n",
    "import sys\n",
    "import boto3\n",
    "import botocore\n",
    "\n",
    "module_path = \"..\"\n",
    "sys.path.append(os.path.abspath(module_path))\n",
    "from utils import bedrock, print_ww\n",
    "\n",
    "\n",
    "# ---- ⚠️ Un-comment and edit the below lines as needed for your AWS setup ⚠️ ----\n",
    "\n",
    "os.environ[\"AWS_DEFAULT_REGION\"] = \"us-east-1\"\n",
    "# os.environ[\"AWS_PROFILE\"] = \"\"\n",
    "# os.environ[\"BEDROCK_ASSUME_ROLE\"] = \"\"  # E.g. \"arn:aws:...\"\n",
    "\n",
    "bedrock_runtime = bedrock.get_bedrock_client(\n",
    "    assumed_role=os.environ.get(\"BEDROCK_ASSUME_ROLE\", None),\n",
    "    region=os.environ.get(\"AWS_DEFAULT_REGION\", None))\n",
    "\n",
    "model_parameter = {\"temperature\": 0.0, \"top_p\": .5, \"max_tokens_to_sample\": 2000}"
   ]
  },
  {
   "cell_type": "markdown",
   "id": "2f2a627a-5b23-429d-9ee2-12130eb98d01",
   "metadata": {},
   "source": [
    "## Prepare prompt for LLM from different customer inputs"
   ]
  },
  {
   "cell_type": "code",
   "execution_count": 16,
   "id": "83ad4159-24aa-486d-8872-328109f0f642",
   "metadata": {},
   "outputs": [],
   "source": [
    "# If you'd like to try your own prompt, edit this parameter!\n",
    "customer_input = \"I am a male consultant in my 30s traveling to New York next week. What kind of outfit should I wear on my first day in the office? \""
   ]
  },
  {
   "cell_type": "markdown",
   "id": "4c556d2c-d133-4bce-a4a2-27721191f8bb",
   "metadata": {},
   "source": [
    "## Invoke the Anthropic Claude model"
   ]
  },
  {
   "cell_type": "code",
   "execution_count": 19,
   "id": "97b0fcf2-2a2e-4e30-9085-10dbd2967895",
   "metadata": {},
   "outputs": [
    {
     "name": "stdout",
     "output_type": "stream",
     "text": [
      " Here are some different style options for a male consultant in his 30s traveling to New York for his first day in the office:\n",
      "\n",
      "Business formal:\n",
      "- A tailored two-piece suit in a neutral color like navy, gray, or black. Pair with a white or light blue dress shirt, leather dress shoes, and a conservative tie.\n",
      "\n",
      "- A blazer or sport coat with dress pants, dress shirt, dress shoes, and tie. Opt for solids or subtle patterns/textures. \n",
      "\n",
      "Business casual:\n",
      "- Dress pants or chinos with a button-up collar shirt or polo shirt. Pair with leather dress shoes or loafers. Can add a blazer or sweater on top.\n",
      "\n",
      "- Dark jeans that are clean and pressed with a collared shirt, sweater or blazer, and leather shoes. Avoid distressed or ripped denim.\n",
      "\n",
      "- A fitted sweater or cardigan over a collared shirt with trousers and leather shoes.\n",
      "\n",
      "Smart casual:\n",
      "- Dark jeans or chinos with a button-up shirt or casual collared shirt like an Oxford. Add loafers, Chelseas, or leather sneakers.\n",
      "\n",
      "- A knit polo or fitted crewneck sweater with trousers or dark jeans and leather shoes. \n",
      "\n",
      "- An unstructured blazer or sport coat over a T-shirt, collared shirt, or sweater, with jeans and leather sneakers or boots.\n",
      "\n",
      "The most formal option would be the suit, while smart casual provides more flexibility. Overall, aim for polished pieces in solid, neutral colors for a sophisticated look. Let me know if you need any other specific recommendations!\n"
     ]
    }
   ],
   "source": [
    "# first fetch possible styles and give options to customer\n",
    "prompt = \"\"\"\n",
    "\n",
    "Human: list different style options for:\n",
    "\"\"\" + customer_input + \"\"\"\n",
    "\n",
    "Assistant:\"\"\"\n",
    "body = json.dumps({\"prompt\": prompt, \"max_tokens_to_sample\": 500})\n",
    "modelId = \"anthropic.claude-v2\"  # change this to use a different version from the model provider\n",
    "accept = \"application/json\"\n",
    "contentType = \"application/json\"\n",
    "claudeResponse = \"\"\n",
    "\n",
    "try:\n",
    "    response = bedrock_runtime.invoke_model(\n",
    "        body=body, modelId=modelId, accept=accept, contentType=contentType\n",
    "    )\n",
    "    response_body = json.loads(response.get(\"body\").read())\n",
    "    styles_response = response_body.get(\"completion\")\n",
    "    print(styles_response)\n",
    "\n",
    "except botocore.exceptions.ClientError as error:\n",
    "    \n",
    "    if error.response['Error']['Code'] == 'AccessDeniedException':\n",
    "           print(f\"\\x1b[41m{error.response['Error']['Message']}\\\n",
    "                \\nTo troubeshoot this issue please refer to the following resources.\\\n",
    "                 \\nhttps://docs.aws.amazon.com/IAM/latest/UserGuide/troubleshoot_access-denied.html\\\n",
    "                 \\nhttps://docs.aws.amazon.com/bedrock/latest/userguide/security-iam.html\\x1b[0m\\n\")\n",
    "        \n",
    "    else:\n",
    "        raise error"
   ]
  },
  {
   "cell_type": "markdown",
   "id": "5a3c215a-b09c-486b-b73a-e8e2adb824ad",
   "metadata": {},
   "source": [
    "## Preparing received response to generate images for each style look"
   ]
  },
  {
   "cell_type": "code",
   "execution_count": 20,
   "id": "7049336b-f638-483c-bb8a-cc3d72c2aaa3",
   "metadata": {},
   "outputs": [
    {
     "name": "stdout",
     "output_type": "stream",
     "text": [
      "Business formal:\n",
      "- A tailored two-piece suit in a neutral color like navy, gray, or black. Pair with a white or light blue dress shirt, leather dress shoes, and a conservative tie.\n",
      "- A blazer or sport coat with dress pants, dress shirt, dress shoes, and tie. Opt for solids or subtle patterns/textures.\n",
      "Business casual:\n",
      "- Dress pants or chinos with a button-up collar shirt or polo shirt. Pair with leather dress shoes or loafers. Can add a blazer or sweater on top.\n",
      "- Dark jeans that are clean and pressed with a collared shirt, sweater or blazer, and leather shoes. Avoid distressed or ripped denim.\n",
      "- A fitted sweater or cardigan over a collared shirt with trousers and leather shoes.\n",
      "Smart casual:\n",
      "- Dark jeans or chinos with a button-up shirt or casual collared shirt like an Oxford. Add loafers, Chelseas, or leather sneakers.\n",
      "- A knit polo or fitted crewneck sweater with trousers or dark jeans and leather shoes.\n",
      "- An unstructured blazer or sport coat over a T-shirt, collared shirt, or sweater, with jeans and leather sneakers or boots.\n"
     ]
    }
   ],
   "source": [
    "# Prepare input for fetching images for each of style\n",
    "styles = [s.strip() for s in (list(filter(None, styles_response.splitlines()))[1:-1])]\n",
    "print(*styles, sep='\\n')"
   ]
  },
  {
   "cell_type": "markdown",
   "id": "7f1b8395-f86c-44aa-aab4-79bff227a4c6",
   "metadata": {},
   "source": [
    "## Generating images for each style using stability.stable-diffusion-xl"
   ]
  },
  {
   "cell_type": "code",
   "execution_count": null,
   "id": "7983d5c8-00da-41f1-83fa-8e84c4e415d2",
   "metadata": {},
   "outputs": [],
   "source": [
    "from PIL import Image\n",
    "from IPython import display\n",
    "from base64 import b64decode\n",
    "import base64\n",
    "import io\n",
    "import json\n",
    "import os\n",
    "import sys\n",
    "\n",
    "# Fetching images for each of style\n",
    "\n",
    "os.makedirs(\"data\", exist_ok=True)\n",
    "images = []\n",
    "for i, style in enumerate(styles):\n",
    "    if len(style.split(\"-\")) > 1:\n",
    "        request = json.dumps({\n",
    "            \"text_prompts\": (\n",
    "                [{\"text\": \"person wearing \" + style.split(\"-\")[1], \"weight\": 1.0}]\n",
    "            ),\n",
    "            \"cfg_scale\": 5,\n",
    "            \"seed\": 5450,\n",
    "            \"steps\": 70,\n",
    "            \"style_preset\": \"photographic\",\n",
    "        })\n",
    "        modelId = \"stability.stable-diffusion-xl\"\n",
    "        \n",
    "        response = bedrock_runtime.invoke_model(body=request, modelId=modelId)\n",
    "        response_body = json.loads(response.get(\"body\").read())\n",
    "        \n",
    "        base_64_img_str = response_body[\"artifacts\"][0].get(\"base64\")\n",
    "        display.display(display.Image(b64decode(base_64_img_str), width=200))"
   ]
  }
 ],
 "metadata": {
  "kernelspec": {
   "display_name": "Python 3 (ipykernel)",
   "language": "python",
   "name": "python3"
  },
  "language_info": {
   "codemirror_mode": {
    "name": "ipython",
    "version": 3
   },
   "file_extension": ".py",
   "mimetype": "text/x-python",
   "name": "python",
   "nbconvert_exporter": "python",
   "pygments_lexer": "ipython3",
   "version": "3.11.4"
  }
 },
 "nbformat": 4,
 "nbformat_minor": 5
}
